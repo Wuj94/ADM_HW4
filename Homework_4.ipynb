{
 "cells": [
  {
   "cell_type": "markdown",
   "metadata": {},
   "source": [
    "# Homework 4\n",
    "\n",
    "## First Part: Does basic house information reflect house's description?\n",
    "\n",
    "The goal of this part of the homework, consists in implement two clustering, based on two differents criteria, but using the same data, and compare the results.\n",
    "\n",
    "### Scraping\n",
    "\n",
    "For getting out data, we scrap the information from the site www.inmobiliare.it. For each appartament we took information of: title, link, price, locali, superficie, bagni, piano and description and return a csv called 'immobiliare2.csv'. \n",
    "\n",
    "For more details about the process of the scrapping, consult the 'scraper.py' file, available in the respository."
   ]
  },
  {
   "cell_type": "code",
   "execution_count": 6,
   "metadata": {},
   "outputs": [],
   "source": [
    "import pandas as pd"
   ]
  },
  {
   "cell_type": "code",
   "execution_count": 10,
   "metadata": {},
   "outputs": [
    {
     "ename": "SyntaxError",
     "evalue": "(unicode error) 'unicodeescape' codec can't decode bytes in position 2-3: truncated \\UXXXXXXXX escape (<ipython-input-10-2dfe593b0063>, line 2)",
     "output_type": "error",
     "traceback": [
      "\u001b[1;36m  File \u001b[1;32m\"<ipython-input-10-2dfe593b0063>\"\u001b[1;36m, line \u001b[1;32m2\u001b[0m\n\u001b[1;33m    df = pd.read_csv(\"C:\\Users\\falli\\Downloads\\ADM_HW4-masterimmobiliare2.csv\")\u001b[0m\n\u001b[1;37m                    ^\u001b[0m\n\u001b[1;31mSyntaxError\u001b[0m\u001b[1;31m:\u001b[0m (unicode error) 'unicodeescape' codec can't decode bytes in position 2-3: truncated \\UXXXXXXXX escape\n"
     ]
    }
   ],
   "source": [
    "# Raw data after the srapping process\n",
    "df = pd.read_csv(\"C:\\Users\\falli\\Downloads\\ADM_HW4-masterimmobiliare2.csv\")"
   ]
  },
  {
   "cell_type": "markdown",
   "metadata": {},
   "source": [
    "### Preprocessing"
   ]
  },
  {
   "cell_type": "markdown",
   "metadata": {},
   "source": [
    "In order to have usefull information for the following analisys, we clean the data:\n",
    "\n",
    "On the text varibles:\n",
    "- drop NA\n",
    "- remove punctuation\n",
    "- remove stopwords\n",
    "- steam \n",
    "\n",
    "On the numeric variables:\n",
    "\n",
    "- drop NA\n",
    "- drop characters no numeric as '€' among others\n",
    "- replace characters as \"T\" in the column \"piano\", for 0"
   ]
  },
  {
   "cell_type": "code",
   "execution_count": 12,
   "metadata": {},
   "outputs": [],
   "source": [
    "# import preprocessing"
   ]
  },
  {
   "cell_type": "code",
   "execution_count": null,
   "metadata": {},
   "outputs": [],
   "source": [
    "p = Preprocesser(df)\n",
    "p.preprocess()\n",
    "df.to_csv(\"immobiliare2preprocessed.csv\")"
   ]
  },
  {
   "cell_type": "markdown",
   "metadata": {},
   "source": [
    "### Datasets"
   ]
  },
  {
   "cell_type": "markdown",
   "metadata": {},
   "source": [
    "Now, with the dataframe, preproceced, we proceed to create the two databases needed, tha information matrix and the description matrix."
   ]
  },
  {
   "cell_type": "code",
   "execution_count": null,
   "metadata": {},
   "outputs": [],
   "source": [
    "# import matrix builder"
   ]
  },
  {
   "cell_type": "markdown",
   "metadata": {},
   "source": [
    "### Clustering"
   ]
  },
  {
   "cell_type": "markdown",
   "metadata": {},
   "source": [
    "#### Similar clusters"
   ]
  },
  {
   "cell_type": "markdown",
   "metadata": {},
   "source": [
    "#### Word cloud of house descriptions"
   ]
  }
 ],
 "metadata": {
  "kernelspec": {
   "display_name": "Python 3",
   "language": "python",
   "name": "python3"
  },
  "language_info": {
   "codemirror_mode": {
    "name": "ipython",
    "version": 3
   },
   "file_extension": ".py",
   "mimetype": "text/x-python",
   "name": "python",
   "nbconvert_exporter": "python",
   "pygments_lexer": "ipython3",
   "version": "3.6.5"
  }
 },
 "nbformat": 4,
 "nbformat_minor": 2
}
