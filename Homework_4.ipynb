{
 "cells": [
  {
   "cell_type": "markdown",
   "metadata": {},
   "source": [
    "# Homework 4\n",
    "\n",
    "## First Part: Does basic house information reflect house's description?\n",
    "\n",
    "The goal of this part of the homework, consists in implement two clustering, based on two differents criteria, but using the same data, and compare the results.\n",
    "\n",
    "### Scraping\n",
    "\n",
    "For getting out data, we scrap the information from the site www.inmobiliare.it. For each appartament we took information of: title, link, price, locali, superficie, bagni, piano and description and return a csv called 'immobiliare2.csv'. \n",
    "\n",
    "For more details about the process of the scrapping, consult the 'scraper.py' file, available in the respoitory."
   ]
  },
  {
   "cell_type": "code",
   "execution_count": null,
   "metadata": {},
   "outputs": [],
   "source": [
    "import scraper"
   ]
  },
  {
   "cell_type": "code",
   "execution_count": null,
   "metadata": {},
   "outputs": [],
   "source": [
    "# Raw data after the srapping process\n",
    "df = pd.read_excel('immobiliare2.csv')"
   ]
  },
  {
   "cell_type": "markdown",
   "metadata": {},
   "source": [
    "### Preprocessing"
   ]
  },
  {
   "cell_type": "code",
   "execution_count": null,
   "metadata": {},
   "outputs": [],
   "source": [
    "import preprocessing"
   ]
  },
  {
   "cell_type": "code",
   "execution_count": null,
   "metadata": {},
   "outputs": [],
   "source": [
    "p = Preprocesser(df)\n",
    "p.preprocess()\n",
    "df.to_csv(\"immobiliare2preprocessed.csv\")"
   ]
  },
  {
   "cell_type": "markdown",
   "metadata": {},
   "source": [
    "### Datasets"
   ]
  }
 ],
 "metadata": {
  "kernelspec": {
   "display_name": "Python 3",
   "language": "python",
   "name": "python3"
  },
  "language_info": {
   "codemirror_mode": {
    "name": "ipython",
    "version": 3
   },
   "file_extension": ".py",
   "mimetype": "text/x-python",
   "name": "python",
   "nbconvert_exporter": "python",
   "pygments_lexer": "ipython3",
   "version": "3.6.5"
  }
 },
 "nbformat": 4,
 "nbformat_minor": 2
}
