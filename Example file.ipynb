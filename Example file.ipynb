{
 "cells": [
  {
   "cell_type": "markdown",
   "metadata": {},
   "source": [
    "### Datasets"
   ]
  },
  {
   "cell_type": "markdown",
   "metadata": {},
   "source": [
    "At this point, we have as an input of this process, a dataframe with:\n",
    "1. announcememt_id\n",
    "2. description\n",
    "3. price\n",
    "4. locali\n",
    "5. superficie\n",
    "6. bagni\n",
    "7. piano\n",
    "\n",
    "With all the data cleaned, the description, pre-processesed, and the other features cleaned."
   ]
  },
  {
   "cell_type": "code",
   "execution_count": 1,
   "metadata": {},
   "outputs": [],
   "source": [
    "import pandas as pd\n",
    "import numpy as np"
   ]
  },
  {
   "cell_type": "code",
   "execution_count": 2,
   "metadata": {},
   "outputs": [],
   "source": [
    "df = pd.read_excel('Database.xlsx')"
   ]
  },
  {
   "cell_type": "code",
   "execution_count": 3,
   "metadata": {},
   "outputs": [
    {
     "data": {
      "text/html": [
       "<div>\n",
       "<style scoped>\n",
       "    .dataframe tbody tr th:only-of-type {\n",
       "        vertical-align: middle;\n",
       "    }\n",
       "\n",
       "    .dataframe tbody tr th {\n",
       "        vertical-align: top;\n",
       "    }\n",
       "\n",
       "    .dataframe thead th {\n",
       "        text-align: right;\n",
       "    }\n",
       "</style>\n",
       "<table border=\"1\" class=\"dataframe\">\n",
       "  <thead>\n",
       "    <tr style=\"text-align: right;\">\n",
       "      <th></th>\n",
       "      <th>Description</th>\n",
       "      <th>price</th>\n",
       "      <th>locali</th>\n",
       "      <th>superficie</th>\n",
       "      <th>bagni</th>\n",
       "      <th>piano</th>\n",
       "    </tr>\n",
       "  </thead>\n",
       "  <tbody>\n",
       "    <tr>\n",
       "      <th>0</th>\n",
       "      <td>Le residenze di Rinascimento Quinto completano...</td>\n",
       "      <td>192000</td>\n",
       "      <td>4</td>\n",
       "      <td>46</td>\n",
       "      <td>1</td>\n",
       "      <td>2</td>\n",
       "    </tr>\n",
       "    <tr>\n",
       "      <th>1</th>\n",
       "      <td>Il complesso residenziale è concepito per aver...</td>\n",
       "      <td>705000</td>\n",
       "      <td>3</td>\n",
       "      <td>67</td>\n",
       "      <td>2</td>\n",
       "      <td>3</td>\n",
       "    </tr>\n",
       "    <tr>\n",
       "      <th>2</th>\n",
       "      <td>L’iniziativa prevede la realizzazione di tre e...</td>\n",
       "      <td>650000</td>\n",
       "      <td>3</td>\n",
       "      <td>56</td>\n",
       "      <td>2</td>\n",
       "      <td>3</td>\n",
       "    </tr>\n",
       "  </tbody>\n",
       "</table>\n",
       "</div>"
      ],
      "text/plain": [
       "                                         Description   price  locali  \\\n",
       "0  Le residenze di Rinascimento Quinto completano...  192000       4   \n",
       "1  Il complesso residenziale è concepito per aver...  705000       3   \n",
       "2  L’iniziativa prevede la realizzazione di tre e...  650000       3   \n",
       "\n",
       "   superficie  bagni  piano  \n",
       "0          46      1      2  \n",
       "1          67      2      3  \n",
       "2          56      2      3  "
      ]
     },
     "execution_count": 3,
     "metadata": {},
     "output_type": "execute_result"
    }
   ],
   "source": [
    "df"
   ]
  },
  {
   "cell_type": "markdown",
   "metadata": {},
   "source": [
    "#### 1) Information\n",
    "The first matrix will have this format: $m_{ij} = value$ where $i \\in \\{announcement_1, ..., announcement_n\\}$ and $j \\in \\{price, locali, superficie, bagni, piano \\}$. n is the number of the announcements. \n",
    "\n",
    "#### It's possible that not all the announcements will have all the fields mentioned above, if it's the case don't take it into account."
   ]
  },
  {
   "cell_type": "code",
   "execution_count": 4,
   "metadata": {},
   "outputs": [],
   "source": [
    "def information_matrix(df):\n",
    "    \"\"\" information matrix creator\n",
    "    input: dataframe with all the information, pre-processed\n",
    "    output format: dataframe\"\"\"\n",
    "    columns_of_interest = [\"price\", \"locali\", \"superficie\", \"bagni\", \"piano\"]\n",
    "    return df[columns_of_interest]"
   ]
  },
  {
   "cell_type": "code",
   "execution_count": 5,
   "metadata": {},
   "outputs": [],
   "source": [
    "information_matrix = information_matrix(df)"
   ]
  },
  {
   "cell_type": "code",
   "execution_count": 6,
   "metadata": {},
   "outputs": [
    {
     "data": {
      "text/html": [
       "<div>\n",
       "<style scoped>\n",
       "    .dataframe tbody tr th:only-of-type {\n",
       "        vertical-align: middle;\n",
       "    }\n",
       "\n",
       "    .dataframe tbody tr th {\n",
       "        vertical-align: top;\n",
       "    }\n",
       "\n",
       "    .dataframe thead th {\n",
       "        text-align: right;\n",
       "    }\n",
       "</style>\n",
       "<table border=\"1\" class=\"dataframe\">\n",
       "  <thead>\n",
       "    <tr style=\"text-align: right;\">\n",
       "      <th></th>\n",
       "      <th>price</th>\n",
       "      <th>locali</th>\n",
       "      <th>superficie</th>\n",
       "      <th>bagni</th>\n",
       "      <th>piano</th>\n",
       "    </tr>\n",
       "  </thead>\n",
       "  <tbody>\n",
       "    <tr>\n",
       "      <th>0</th>\n",
       "      <td>192000</td>\n",
       "      <td>4</td>\n",
       "      <td>46</td>\n",
       "      <td>1</td>\n",
       "      <td>2</td>\n",
       "    </tr>\n",
       "    <tr>\n",
       "      <th>1</th>\n",
       "      <td>705000</td>\n",
       "      <td>3</td>\n",
       "      <td>67</td>\n",
       "      <td>2</td>\n",
       "      <td>3</td>\n",
       "    </tr>\n",
       "    <tr>\n",
       "      <th>2</th>\n",
       "      <td>650000</td>\n",
       "      <td>3</td>\n",
       "      <td>56</td>\n",
       "      <td>2</td>\n",
       "      <td>3</td>\n",
       "    </tr>\n",
       "  </tbody>\n",
       "</table>\n",
       "</div>"
      ],
      "text/plain": [
       "    price  locali  superficie  bagni  piano\n",
       "0  192000       4          46      1      2\n",
       "1  705000       3          67      2      3\n",
       "2  650000       3          56      2      3"
      ]
     },
     "execution_count": 6,
     "metadata": {},
     "output_type": "execute_result"
    }
   ],
   "source": [
    "information_matrix"
   ]
  },
  {
   "cell_type": "code",
   "execution_count": 56,
   "metadata": {},
   "outputs": [
    {
     "data": {
      "text/plain": [
       "array([[192000,      4,     46,      1,      2],\n",
       "       [705000,      3,     67,      2,      3],\n",
       "       [650000,      3,     56,      2,      3]], dtype=int64)"
      ]
     },
     "execution_count": 56,
     "metadata": {},
     "output_type": "execute_result"
    }
   ],
   "source": [
    "# In case we need it as an array\n",
    "information_array = information_matrix.values\n",
    "information_array"
   ]
  },
  {
   "cell_type": "markdown",
   "metadata": {},
   "source": [
    "#### 2) Description\n",
    "The second matrix will have this format: $m_{ij} = tfIdf_{ij}$ where $i \\in \\{announcement_1, ..., announcement_n\\}$ and $j \\in \\{word_1, ...,word_m\\}$. n is the number of the announcements and m is the cardinality of the vocabulary. \n",
    "This time, you must implement the Tf-Idf by yourself (not with libraries). \n",
    "Make sure to use the complete description inside the link of the announcement."
   ]
  },
  {
   "cell_type": "code",
   "execution_count": 76,
   "metadata": {},
   "outputs": [
    {
     "data": {
      "text/html": [
       "<div>\n",
       "<style scoped>\n",
       "    .dataframe tbody tr th:only-of-type {\n",
       "        vertical-align: middle;\n",
       "    }\n",
       "\n",
       "    .dataframe tbody tr th {\n",
       "        vertical-align: top;\n",
       "    }\n",
       "\n",
       "    .dataframe thead th {\n",
       "        text-align: right;\n",
       "    }\n",
       "</style>\n",
       "<table border=\"1\" class=\"dataframe\">\n",
       "  <thead>\n",
       "    <tr style=\"text-align: right;\">\n",
       "      <th></th>\n",
       "      <th>Description</th>\n",
       "      <th>price</th>\n",
       "      <th>locali</th>\n",
       "      <th>superficie</th>\n",
       "      <th>bagni</th>\n",
       "      <th>piano</th>\n",
       "    </tr>\n",
       "  </thead>\n",
       "  <tbody>\n",
       "    <tr>\n",
       "      <th>0</th>\n",
       "      <td>Le residenze di Rinascimento Quinto completano...</td>\n",
       "      <td>192000</td>\n",
       "      <td>4</td>\n",
       "      <td>46</td>\n",
       "      <td>1</td>\n",
       "      <td>2</td>\n",
       "    </tr>\n",
       "    <tr>\n",
       "      <th>1</th>\n",
       "      <td>Il complesso residenziale è concepito per aver...</td>\n",
       "      <td>705000</td>\n",
       "      <td>3</td>\n",
       "      <td>67</td>\n",
       "      <td>2</td>\n",
       "      <td>3</td>\n",
       "    </tr>\n",
       "    <tr>\n",
       "      <th>2</th>\n",
       "      <td>L’iniziativa prevede la realizzazione di tre e...</td>\n",
       "      <td>650000</td>\n",
       "      <td>3</td>\n",
       "      <td>56</td>\n",
       "      <td>2</td>\n",
       "      <td>3</td>\n",
       "    </tr>\n",
       "  </tbody>\n",
       "</table>\n",
       "</div>"
      ],
      "text/plain": [
       "                                         Description   price  locali  \\\n",
       "0  Le residenze di Rinascimento Quinto completano...  192000       4   \n",
       "1  Il complesso residenziale è concepito per aver...  705000       3   \n",
       "2  L’iniziativa prevede la realizzazione di tre e...  650000       3   \n",
       "\n",
       "   superficie  bagni  piano  \n",
       "0          46      1      2  \n",
       "1          67      2      3  \n",
       "2          56      2      3  "
      ]
     },
     "execution_count": 76,
     "metadata": {},
     "output_type": "execute_result"
    }
   ],
   "source": [
    "df"
   ]
  },
  {
   "cell_type": "markdown",
   "metadata": {},
   "source": [
    "#### Tf-Idf\n",
    "\n",
    "##### Tf-idf = Term frequency * Inverse document frequency\n",
    "\n",
    "##### 1. Term frequency\n",
    "Number of times that term t occurs in document d.\n",
    "\n",
    "\n",
    "##### 2. Inverse document frequency \n",
    "Is a measure of how much information the word provides, i.e., if it's common or rare across all documents. It is the logarithmically scaled inverse fraction of the documents that contain the word (obtained by dividing the total number of documents by the number of documents containing the term, and then taking the logarithm of that quotient):\n",
    "\n",
    "log(total number of documents/ number of documents where the term appears)\n",
    "\n",
    "Note that if the term is not in any document, this will lead to a division-by-zero. It is therefore common to adjust the denominator to 1+ number of documents where the term appears. "
   ]
  },
  {
   "cell_type": "code",
   "execution_count": 9,
   "metadata": {},
   "outputs": [],
   "source": [
    "# Libraries\n",
    "from collections import defaultdict\n",
    "from math import log"
   ]
  },
  {
   "cell_type": "code",
   "execution_count": 77,
   "metadata": {},
   "outputs": [],
   "source": [
    "# Sub-functions\n",
    "def vocabulary(df):\n",
    "    \"\"\"input:dataframe with all the information, pre-processed\n",
    "    output: a list with all the unique words of the descriptions\"\"\"\n",
    "    voc_list = []\n",
    "    for index in range(len(df)):\n",
    "        for word in str(df.values[index][0]).split():\n",
    "            if word not in voc_list:\n",
    "                voc_list.append(word)\n",
    "    return voc_list\n",
    "\n",
    "def inv_freq(df):\n",
    "    \"\"\"input: dataframe with all the information, pre-processed\n",
    "    output: a dictionary, with key: word; value: inverse document frequent of the word\"\"\"\n",
    "    # A list with all the unique words of the dataframe\n",
    "    voc_list = vocabulary(df)\n",
    "    # Total numbers of documents\n",
    "    Tot_num_docs = len(df)\n",
    "    # Number of documents where the term appears(dictionary)\n",
    "    num_doc_dict = defaultdict(int)\n",
    "    i = 0\n",
    "    for word in voc_list:\n",
    "        for i in range(len(df)):\n",
    "            if word in df.values[i][0].split():\n",
    "                num_doc_dict[word] += 1\n",
    "            i += 1\n",
    "    # Inverse document frequency for each word\n",
    "    inv_freq_dict = defaultdict(float)\n",
    "    for word in voc_list:\n",
    "        inv_freq_dict[word] = log((Tot_num_docs/num_doc_dict[word]),10)\n",
    "    return inv_freq_dict\n",
    "\n",
    "def frequency(L):\n",
    "    \"\"\"input: a list of words\n",
    "    output: a dictionary, with key: word; value: frequency of that word in the list\"\"\"\n",
    "    d_freq = defaultdict(int)\n",
    "    for word in L:\n",
    "        d_freq[word] += 1 \n",
    "    for key in d_freq:\n",
    "        d_freq[key] = d_freq[key]/len(L)\n",
    "    return d_freq"
   ]
  },
  {
   "cell_type": "code",
   "execution_count": 102,
   "metadata": {},
   "outputs": [],
   "source": [
    "# Final function\n",
    "def Tfidf(df):\n",
    "    \"\"\"input: dataframe with all the information, pre-processed\n",
    "    output: a dictionary with key1: id_document(# row) value1: another dictionary\n",
    "    with key2: the words in the document; value2: the tfidf of each word\"\"\"\n",
    "    d = {}\n",
    "    # Create a dictionary with all the words and the inverse document frequent of each word\n",
    "    inv_freq_dict = inv_freq(df)\n",
    "    # Create a frequency dictionary: as key1: id_doc; value1: dictionary\n",
    "    # key2: word in document; value2: frequency of each word\n",
    "    for i in list(df.index.values):\n",
    "        L = str(df.values[i][0]).split()\n",
    "        d[i] = frequency(L)\n",
    "    # Create the final dictionary, with the tifidf of each word in each document \n",
    "    for i in range(len(df)):\n",
    "        for key in d[i]:\n",
    "            d[i][key] = d[i][key]*inv_freq_dict[key]\n",
    "    D = pd.DataFrame(Description_Matrix).T\n",
    "    D.fillna(value = 0, inplace = True)\n",
    "    return D"
   ]
  },
  {
   "cell_type": "code",
   "execution_count": 103,
   "metadata": {},
   "outputs": [
    {
     "data": {
      "text/html": [
       "<div>\n",
       "<style scoped>\n",
       "    .dataframe tbody tr th:only-of-type {\n",
       "        vertical-align: middle;\n",
       "    }\n",
       "\n",
       "    .dataframe tbody tr th {\n",
       "        vertical-align: top;\n",
       "    }\n",
       "\n",
       "    .dataframe thead th {\n",
       "        text-align: right;\n",
       "    }\n",
       "</style>\n",
       "<table border=\"1\" class=\"dataframe\">\n",
       "  <thead>\n",
       "    <tr style=\"text-align: right;\">\n",
       "      <th></th>\n",
       "      <th>A/A+,</th>\n",
       "      <th>Figli.</th>\n",
       "      <th>Gruppo</th>\n",
       "      <th>Il</th>\n",
       "      <th>Le</th>\n",
       "      <th>L’idea</th>\n",
       "      <th>L’iniziativa</th>\n",
       "      <th>L’intero</th>\n",
       "      <th>Mezzaroma</th>\n",
       "      <th>Ogni</th>\n",
       "      <th>...</th>\n",
       "      <th>stilistica</th>\n",
       "      <th>suoi</th>\n",
       "      <th>terrazze</th>\n",
       "      <th>tre</th>\n",
       "      <th>una</th>\n",
       "      <th>unità</th>\n",
       "      <th>urbana,</th>\n",
       "      <th>verde</th>\n",
       "      <th>volumi</th>\n",
       "      <th>è</th>\n",
       "    </tr>\n",
       "  </thead>\n",
       "  <tbody>\n",
       "    <tr>\n",
       "      <th>0</th>\n",
       "      <td>0.00000</td>\n",
       "      <td>0.01988</td>\n",
       "      <td>0.01988</td>\n",
       "      <td>0.00000</td>\n",
       "      <td>0.01988</td>\n",
       "      <td>0.00000</td>\n",
       "      <td>0.00000</td>\n",
       "      <td>0.00000</td>\n",
       "      <td>0.01988</td>\n",
       "      <td>0.00000</td>\n",
       "      <td>...</td>\n",
       "      <td>0.00000</td>\n",
       "      <td>0.00000</td>\n",
       "      <td>0.00000</td>\n",
       "      <td>0.00000</td>\n",
       "      <td>0.00000</td>\n",
       "      <td>0.00000</td>\n",
       "      <td>0.00000</td>\n",
       "      <td>0.00000</td>\n",
       "      <td>0.00000</td>\n",
       "      <td>0.000000</td>\n",
       "    </tr>\n",
       "    <tr>\n",
       "      <th>1</th>\n",
       "      <td>0.00000</td>\n",
       "      <td>0.00000</td>\n",
       "      <td>0.00000</td>\n",
       "      <td>0.00994</td>\n",
       "      <td>0.00000</td>\n",
       "      <td>0.00000</td>\n",
       "      <td>0.00000</td>\n",
       "      <td>0.00994</td>\n",
       "      <td>0.00000</td>\n",
       "      <td>0.00000</td>\n",
       "      <td>...</td>\n",
       "      <td>0.00000</td>\n",
       "      <td>0.00994</td>\n",
       "      <td>0.00000</td>\n",
       "      <td>0.00000</td>\n",
       "      <td>0.00994</td>\n",
       "      <td>0.00000</td>\n",
       "      <td>0.00994</td>\n",
       "      <td>0.00994</td>\n",
       "      <td>0.00000</td>\n",
       "      <td>0.007337</td>\n",
       "    </tr>\n",
       "    <tr>\n",
       "      <th>2</th>\n",
       "      <td>0.00734</td>\n",
       "      <td>0.00000</td>\n",
       "      <td>0.00000</td>\n",
       "      <td>0.00000</td>\n",
       "      <td>0.00000</td>\n",
       "      <td>0.00734</td>\n",
       "      <td>0.00734</td>\n",
       "      <td>0.00000</td>\n",
       "      <td>0.00000</td>\n",
       "      <td>0.00734</td>\n",
       "      <td>...</td>\n",
       "      <td>0.00734</td>\n",
       "      <td>0.00000</td>\n",
       "      <td>0.00734</td>\n",
       "      <td>0.00734</td>\n",
       "      <td>0.00000</td>\n",
       "      <td>0.00734</td>\n",
       "      <td>0.00000</td>\n",
       "      <td>0.00000</td>\n",
       "      <td>0.00734</td>\n",
       "      <td>0.002709</td>\n",
       "    </tr>\n",
       "  </tbody>\n",
       "</table>\n",
       "<p>3 rows × 113 columns</p>\n",
       "</div>"
      ],
      "text/plain": [
       "     A/A+,   Figli.   Gruppo       Il       Le   L’idea  L’iniziativa  \\\n",
       "0  0.00000  0.01988  0.01988  0.00000  0.01988  0.00000       0.00000   \n",
       "1  0.00000  0.00000  0.00000  0.00994  0.00000  0.00000       0.00000   \n",
       "2  0.00734  0.00000  0.00000  0.00000  0.00000  0.00734       0.00734   \n",
       "\n",
       "   L’intero  Mezzaroma     Ogni    ...     stilistica     suoi  terrazze  \\\n",
       "0   0.00000    0.01988  0.00000    ...        0.00000  0.00000   0.00000   \n",
       "1   0.00994    0.00000  0.00000    ...        0.00000  0.00994   0.00000   \n",
       "2   0.00000    0.00000  0.00734    ...        0.00734  0.00000   0.00734   \n",
       "\n",
       "       tre      una    unità  urbana,    verde   volumi         è  \n",
       "0  0.00000  0.00000  0.00000  0.00000  0.00000  0.00000  0.000000  \n",
       "1  0.00000  0.00994  0.00000  0.00994  0.00994  0.00000  0.007337  \n",
       "2  0.00734  0.00000  0.00734  0.00000  0.00000  0.00734  0.002709  \n",
       "\n",
       "[3 rows x 113 columns]"
      ]
     },
     "execution_count": 103,
     "metadata": {},
     "output_type": "execute_result"
    }
   ],
   "source": [
    "Description_Matrix = Tfidf(df)\n",
    "Description_Matrix"
   ]
  },
  {
   "cell_type": "markdown",
   "metadata": {},
   "source": [
    "#### Clustering\n",
    "This step consists in clustering the house announcements using K-means++. \n",
    "In order to do that you can use this Python library. \n",
    "Choose the optimal number of clusters using the Elbow-Method."
   ]
  },
  {
   "cell_type": "code",
   "execution_count": 98,
   "metadata": {},
   "outputs": [
    {
     "data": {
      "text/html": [
       "<div>\n",
       "<style scoped>\n",
       "    .dataframe tbody tr th:only-of-type {\n",
       "        vertical-align: middle;\n",
       "    }\n",
       "\n",
       "    .dataframe tbody tr th {\n",
       "        vertical-align: top;\n",
       "    }\n",
       "\n",
       "    .dataframe thead th {\n",
       "        text-align: right;\n",
       "    }\n",
       "</style>\n",
       "<table border=\"1\" class=\"dataframe\">\n",
       "  <thead>\n",
       "    <tr style=\"text-align: right;\">\n",
       "      <th></th>\n",
       "      <th>price</th>\n",
       "      <th>locali</th>\n",
       "      <th>superficie</th>\n",
       "      <th>bagni</th>\n",
       "      <th>piano</th>\n",
       "    </tr>\n",
       "  </thead>\n",
       "  <tbody>\n",
       "    <tr>\n",
       "      <th>0</th>\n",
       "      <td>192000</td>\n",
       "      <td>4</td>\n",
       "      <td>46</td>\n",
       "      <td>1</td>\n",
       "      <td>2</td>\n",
       "    </tr>\n",
       "    <tr>\n",
       "      <th>1</th>\n",
       "      <td>705000</td>\n",
       "      <td>3</td>\n",
       "      <td>67</td>\n",
       "      <td>2</td>\n",
       "      <td>3</td>\n",
       "    </tr>\n",
       "    <tr>\n",
       "      <th>2</th>\n",
       "      <td>650000</td>\n",
       "      <td>3</td>\n",
       "      <td>56</td>\n",
       "      <td>2</td>\n",
       "      <td>3</td>\n",
       "    </tr>\n",
       "  </tbody>\n",
       "</table>\n",
       "</div>"
      ],
      "text/plain": [
       "    price  locali  superficie  bagni  piano\n",
       "0  192000       4          46      1      2\n",
       "1  705000       3          67      2      3\n",
       "2  650000       3          56      2      3"
      ]
     },
     "execution_count": 98,
     "metadata": {},
     "output_type": "execute_result"
    }
   ],
   "source": [
    "information_matrix"
   ]
  },
  {
   "cell_type": "code",
   "execution_count": 47,
   "metadata": {},
   "outputs": [],
   "source": [
    "from sklearn.cluster import KMeans"
   ]
  },
  {
   "cell_type": "code",
   "execution_count": 93,
   "metadata": {},
   "outputs": [],
   "source": [
    "K = KMeans(n_clusters=2).fit(information_matrix.values)"
   ]
  },
  {
   "cell_type": "code",
   "execution_count": 96,
   "metadata": {},
   "outputs": [],
   "source": [
    "centroids = K.cluster_centers_"
   ]
  },
  {
   "cell_type": "code",
   "execution_count": 97,
   "metadata": {},
   "outputs": [
    {
     "data": {
      "text/plain": [
       "array([[6.775e+05, 3.000e+00, 6.150e+01, 2.000e+00, 3.000e+00],\n",
       "       [1.920e+05, 4.000e+00, 4.600e+01, 1.000e+00, 2.000e+00]])"
      ]
     },
     "execution_count": 97,
     "metadata": {},
     "output_type": "execute_result"
    }
   ],
   "source": [
    "centroids"
   ]
  },
  {
   "cell_type": "code",
   "execution_count": 106,
   "metadata": {},
   "outputs": [
    {
     "data": {
      "text/plain": [
       "-1512500060.5"
      ]
     },
     "execution_count": 106,
     "metadata": {},
     "output_type": "execute_result"
    }
   ],
   "source": [
    "K.score(information_matrix.values)"
   ]
  },
  {
   "cell_type": "code",
   "execution_count": 113,
   "metadata": {},
   "outputs": [],
   "source": [
    "# Elbow method\n",
    "\n",
    "km = [KMeans(n_clusters = i) for i in range(1, 4)]\n",
    "score = [km[i].fit(information_matrix.values).score(information_matrix.values) for i in range(len(km))]"
   ]
  },
  {
   "cell_type": "code",
   "execution_count": 114,
   "metadata": {},
   "outputs": [
    {
     "data": {
      "text/plain": [
       "[-158652666889.3335, -1512500060.5, -0.0]"
      ]
     },
     "execution_count": 114,
     "metadata": {},
     "output_type": "execute_result"
    }
   ],
   "source": [
    "score"
   ]
  },
  {
   "cell_type": "markdown",
   "metadata": {},
   "source": [
    "Missing functions:\n",
    "-  Elbow-Method \n",
    "- Jaccard-Similarity \n",
    "-  Wordcloud "
   ]
  }
 ],
 "metadata": {
  "kernelspec": {
   "display_name": "Python 3",
   "language": "python",
   "name": "python3"
  },
  "language_info": {
   "codemirror_mode": {
    "name": "ipython",
    "version": 3
   },
   "file_extension": ".py",
   "mimetype": "text/x-python",
   "name": "python",
   "nbconvert_exporter": "python",
   "pygments_lexer": "ipython3",
   "version": "3.6.5"
  }
 },
 "nbformat": 4,
 "nbformat_minor": 2
}
